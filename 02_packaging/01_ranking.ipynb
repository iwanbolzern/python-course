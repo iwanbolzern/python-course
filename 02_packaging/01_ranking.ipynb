{
 "cells": [
  {
   "cell_type": "markdown",
   "metadata": {},
   "source": [
    "# imports"
   ]
  },
  {
   "cell_type": "code",
   "execution_count": null,
   "metadata": {},
   "outputs": [],
   "source": [
    "import pandas as pd\n",
    "import numpy as np\n",
    "import time"
   ]
  },
  {
   "cell_type": "markdown",
   "metadata": {},
   "source": [
    "# Get data"
   ]
  },
  {
   "cell_type": "code",
   "execution_count": null,
   "metadata": {},
   "outputs": [],
   "source": [
    "positions = pd.read_csv(\"../Data/positions.csv\")\n",
    "portfolios = pd.read_csv(\"../Data/portfolios.csv\")\n",
    "instruments = pd.read_csv(\"../Data/instruments.csv\")"
   ]
  },
  {
   "cell_type": "markdown",
   "metadata": {},
   "source": [
    "# preprocess data"
   ]
  },
  {
   "cell_type": "code",
   "execution_count": null,
   "metadata": {},
   "outputs": [],
   "source": [
    "# remove portfolios with too few (less than 3) transactions\n",
    "counts = positions['PortfolioID'].value_counts()\n",
    "filtered_indices = counts[counts >= 3].index.tolist()\n",
    "positions = positions[positions['PortfolioID'].isin(filtered_indices)]\n",
    "# remove investments owned by too few (less than 5) portfolios\n",
    "counts = positions['InstrumentID'].value_counts()\n",
    "filtered_indices = counts[counts >= 5].index.tolist()\n",
    "positions = positions[positions['InstrumentID'].isin(filtered_indices)]"
   ]
  },
  {
   "cell_type": "markdown",
   "metadata": {},
   "source": [
    "# build data to train on"
   ]
  },
  {
   "cell_type": "markdown",
   "metadata": {},
   "source": [
    "Create a user-item-rating dataframe, where users are portfolios and items are instruments.\n",
    "The ratings will be all 1, because the data we have is only the instruments that have been bought.\n",
    "This means we will only train on positive examples"
   ]
  },
  {
   "cell_type": "code",
   "execution_count": null,
   "metadata": {},
   "outputs": [],
   "source": [
    "# build portfolio - investment pairs\n",
    "t1 = time.time()\n",
    "portfolio_list = positions[\"PortfolioID\"].unique()\n",
    "investment_list = positions[\"InstrumentID\"].unique()\n",
    "\n",
    "user_indices = []\n",
    "item_indices = []\n",
    "for index, row in positions.iterrows():\n",
    "    user_indices += [portfolio_list.tolist().index(row[\"PortfolioID\"])]\n",
    "    item_indices += [investment_list.tolist().index(row[\"InstrumentID\"])]\n",
    "\n",
    "ratings = [1] * len(user_indices)\n",
    "\n",
    "user_item_rating_df = pd.DataFrame({\"User\": user_indices,\n",
    "                                    \"Item\": item_indices,\n",
    "                                    \"Rating\": ratings})\n",
    "t2 = time.time()\n",
    "print(\"Building user-item frame took \" + str(t2-t1) + \" seconds.\")"
   ]
  },
  {
   "cell_type": "code",
   "execution_count": null,
   "metadata": {},
   "outputs": [],
   "source": [
    "user_item_rating_df"
   ]
  },
  {
   "cell_type": "markdown",
   "metadata": {},
   "source": [
    "# train/test split"
   ]
  },
  {
   "cell_type": "code",
   "execution_count": null,
   "metadata": {},
   "outputs": [],
   "source": [
    "user_item_rating_df = user_item_rating_df.sample(frac=1).reset_index(drop=True)"
   ]
  },
  {
   "cell_type": "code",
   "execution_count": null,
   "metadata": {},
   "outputs": [],
   "source": [
    "user_item_rating_df"
   ]
  },
  {
   "cell_type": "code",
   "execution_count": null,
   "metadata": {},
   "outputs": [],
   "source": [
    "X = user_item_rating_df[[\"User\", \"Item\"]].values\n",
    "y = user_item_rating_df[\"Rating\"].values"
   ]
  },
  {
   "cell_type": "code",
   "execution_count": null,
   "metadata": {},
   "outputs": [],
   "source": [
    "X_train, X_test = X[0:int(len(user_item_rating_df) * 0.8)], X[int(len(user_item_rating_df) * 0.8):]\n",
    "y_train, y_test = y[0:int(len(user_item_rating_df) * 0.8)], y[int(len(user_item_rating_df) * 0.8):]"
   ]
  },
  {
   "cell_type": "markdown",
   "metadata": {},
   "source": [
    "# Train model"
   ]
  },
  {
   "cell_type": "code",
   "execution_count": null,
   "metadata": {},
   "outputs": [],
   "source": [
    "from scipy import sparse\n",
    "from sklearn.decomposition import NMF"
   ]
  },
  {
   "cell_type": "code",
   "execution_count": null,
   "metadata": {},
   "outputs": [],
   "source": [
    "# get sparse representation\n",
    "X_sparse = sparse.csr_matrix((y_train, (X_train[:, 0], X_train[:, 1])),\n",
    "                             shape=(len(portfolio_list),len(investment_list)))"
   ]
  },
  {
   "cell_type": "code",
   "execution_count": null,
   "metadata": {},
   "outputs": [],
   "source": [
    "model = NMF(\n",
    "    n_components=3,\n",
    "    init='random',\n",
    "    solver='cd',\n",
    "    beta_loss='frobenius',\n",
    "    max_iter=200,\n",
    "    tol=0.0001,\n",
    "    alpha=0,\n",
    "    l1_ratio=0,\n",
    "    random_state=0,\n",
    "    verbose=0,\n",
    "    shuffle=False)\n",
    "W = model.fit_transform(X_sparse)\n",
    "H = model.components_"
   ]
  },
  {
   "cell_type": "markdown",
   "metadata": {},
   "source": [
    "# Test model"
   ]
  },
  {
   "cell_type": "code",
   "execution_count": null,
   "metadata": {},
   "outputs": [],
   "source": [
    "import random"
   ]
  },
  {
   "cell_type": "code",
   "execution_count": null,
   "metadata": {},
   "outputs": [],
   "source": [
    "len(X_test)"
   ]
  },
  {
   "cell_type": "markdown",
   "metadata": {},
   "source": [
    "Since our test set also contains only positive examples, we want to add some zero values: we randomly generate a pair (user, item) and, if there isn't a position for it, we add it with rating zero"
   ]
  },
  {
   "cell_type": "code",
   "execution_count": null,
   "metadata": {},
   "outputs": [],
   "source": [
    "# EXTRA TODO: this function is super slow! find a faster way so the following line can be decommented\n",
    "# l = int(len(X_test) * 1.5)\n",
    "l = len(X_test) + 500\n",
    "t1 = time.time()\n",
    "while len(X_test) < l:\n",
    "    # random user-item pair\n",
    "    u = random.randint(0, len(portfolio_list)-1)\n",
    "    i = random.randint(0, len(investment_list)-1)\n",
    "    already_in = False\n",
    "    # check it was not in the training set\n",
    "    for row in X_train:\n",
    "        if row[0] == u and row[1] == i:\n",
    "            already_in = True\n",
    "    # check it was not in the test set\n",
    "    for row in X_test:\n",
    "        if row[0] == u and row[1] == i:\n",
    "            already_in = True\n",
    "    if not already_in:  # if it's not already in\n",
    "        X_test = np.append(X_test, [[u, i]], axis=0)\n",
    "        y_test = np.append(y_test, 0)\n",
    "t2 = time.time()\n",
    "print(\"Adding zeros took \" + str(t2-t1) + \" seconds.\")"
   ]
  },
  {
   "cell_type": "code",
   "execution_count": null,
   "metadata": {},
   "outputs": [],
   "source": [
    "len(X_test)"
   ]
  },
  {
   "cell_type": "code",
   "execution_count": null,
   "metadata": {},
   "outputs": [],
   "source": [
    "y_pred = []\n",
    "for index in X_test:\n",
    "    # compute dot product\n",
    "    dot_product = W[index[0], :].dot(H[:, index[1]])\n",
    "    y_pred.append(dot_product)\n",
    "for i in range(len(y_pred)):\n",
    "    if y_pred[i] > 0.01:\n",
    "        y_pred[i] = 1\n",
    "    else:\n",
    "        y_pred[i] = 0"
   ]
  },
  {
   "cell_type": "markdown",
   "metadata": {},
   "source": [
    "# Visualize metrics"
   ]
  },
  {
   "cell_type": "code",
   "execution_count": null,
   "metadata": {},
   "outputs": [],
   "source": [
    "TP = 0\n",
    "FP = 0\n",
    "TN = 0\n",
    "FN = 0\n",
    "\n",
    "index = 0\n",
    "for prediction in y_pred:\n",
    "    true_value = y_test[index]\n",
    "    if prediction == 0 and true_value == 0:\n",
    "        TN += 1\n",
    "    if prediction == 0 and true_value == 1:\n",
    "        FN += 1\n",
    "    if prediction == 1 and true_value == 0:\n",
    "        FP += 1\n",
    "    if prediction == 1 and true_value == 1:\n",
    "        TP += 1\n",
    "    index += 1\n",
    "\n",
    "print(\"Precision:\", TP/(TP+FP))\n",
    "print(\"Recall:\", TP/(TP+FN))"
   ]
  },
  {
   "cell_type": "markdown",
   "metadata": {},
   "source": [
    "# Prediction"
   ]
  },
  {
   "cell_type": "code",
   "execution_count": null,
   "metadata": {},
   "outputs": [],
   "source": [
    "extended_positions = pd.merge(positions, instruments, on='InstrumentID')\n",
    "extended_positions"
   ]
  },
  {
   "cell_type": "markdown",
   "metadata": {},
   "source": [
    "## Requirement from business\n",
    "we should not suggest new investments to\n",
    "- non Swiss clients with ranking too high\n",
    "- Swiss clients with ranking too low"
   ]
  },
  {
   "cell_type": "code",
   "execution_count": null,
   "metadata": {
    "pycharm": {
     "name": "#%%\n"
    }
   },
   "outputs": [],
   "source": [
    "RATING_NON_SWISS = 10\n",
    "RATING_DEFAULT = 1\n",
    "RATING_CHF = 5\n",
    "CURRENCY_CHF = 'CHF'\n",
    "RATING_GBP = 6\n",
    "CURRENCY_GBP = 'GBP'\n",
    "RATING_EUR = 7\n",
    "CURRENCY_EUR = 'EUR'\n",
    "RATING_USD = 8\n",
    "CURRENCY_USD = 'USD'\n",
    "\n",
    "\n",
    "def compute_instrument_rating(instruments, ch_cl=False):\n",
    "    rating = 0\n",
    "\n",
    "    #check if swiss client\n",
    "    if ch_cl:\n",
    "        # iterate over all the instruments\n",
    "        for index, instrument in instruments.iterrows():\n",
    "\n",
    "            # do not process insturments that should be ignored\n",
    "            if not instrument[\"Ignore\"]:\n",
    "\n",
    "                # skip all the expired instruments\n",
    "                if not instrument[\"Expired\"]:\n",
    "\n",
    "                    instr_curr = instrument[\"Currency\"]\n",
    "\n",
    "                    if instr_curr == CURRENCY_USD:\n",
    "                        rating += RATING_USD\n",
    "                    elif instr_curr == CURRENCY_EUR:\n",
    "                        rating += RATING_EUR\n",
    "                    elif instr_curr == CURRENCY_GBP:\n",
    "                        rating += RATING_GBP\n",
    "                    elif instr_curr == CURRENCY_CHF:\n",
    "                        rating += RATING_CHF\n",
    "                    else:\n",
    "                        rating += RATING_DEFAULT\n",
    "    else:\n",
    "        rating = len(instruments) * RATING_NON_SWISS\n",
    "\n",
    "    return rating"
   ]
  },
  {
   "cell_type": "code",
   "execution_count": null,
   "metadata": {},
   "outputs": [],
   "source": [
    "potential_investors = [42, 69, 420]\n",
    "potential_investments = range(100, 150)"
   ]
  },
  {
   "cell_type": "code",
   "execution_count": null,
   "metadata": {},
   "outputs": [],
   "source": [
    "for potential_investor in potential_investors:\n",
    "    print(\"\\nSuggesting investments for client\", potential_investor)\n",
    "    # check if swiss\n",
    "    is_swiss = portfolios.loc[portfolios['PortfolioID']==potential_investor]['Currency'].values[0] == 'CHF'\n",
    "    # get investments\n",
    "    current_investments = extended_positions.loc[extended_positions['PortfolioID']==potential_investor]\n",
    "    # check rating\n",
    "    rating = compute_instrument_rating(current_investments, is_swiss)\n",
    "    if is_swiss and rating<500:\n",
    "        print(\"Swiss client rating too low, no investment suggested\")\n",
    "    elif not is_swiss and rating>800:\n",
    "        print(\"Non-Swiss client rating too high, no investment suggested\")\n",
    "    else:\n",
    "        y_pred = []\n",
    "        for potential_investment in potential_investments:\n",
    "            dot_product = 0\n",
    "            # only do the prediction if investment is valid\n",
    "            if potential_investment not in current_investments.values:\n",
    "                if len(np.where(investment_list == potential_investment)[0]) > 0:\n",
    "                    # get user-item values\n",
    "                    user = np.where(portfolio_list == potential_investor)[0].min()\n",
    "                    item = np.where(investment_list == potential_investment)[0].min()\n",
    "                    # compute prediction\n",
    "                    dot_product = W[user, :].dot(H[:, item])\n",
    "            y_pred.append(dot_product)\n",
    "        for i in range(len(y_pred)):\n",
    "            if y_pred[i] > 0.01:\n",
    "                y_pred[i] = 1\n",
    "            else:\n",
    "                y_pred[i] = 0\n",
    "        suggested = [str(potential_investments[i]) for i in range(len(y_pred)) if y_pred[i]==1]\n",
    "        print(\"Investments suggested for client \" + str(potential_investor) + \":\")\n",
    "        print(\", \".join(suggested))\n",
    "        "
   ]
  },
  {
   "cell_type": "code",
   "execution_count": null,
   "metadata": {},
   "outputs": [],
   "source": []
  }
 ],
 "metadata": {
  "kernelspec": {
   "display_name": "Python 3",
   "language": "python",
   "name": "python3"
  },
  "language_info": {
   "codemirror_mode": {
    "name": "ipython",
    "version": 3
   },
   "file_extension": ".py",
   "mimetype": "text/x-python",
   "name": "python",
   "nbconvert_exporter": "python",
   "pygments_lexer": "ipython3",
   "version": "3.7.4"
  }
 },
 "nbformat": 4,
 "nbformat_minor": 2
}
