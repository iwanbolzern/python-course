{
 "cells": [
  {
   "cell_type": "markdown",
   "metadata": {},
   "source": [
    "# imports"
   ]
  },
  {
   "cell_type": "code",
   "execution_count": 7,
   "metadata": {},
   "outputs": [],
   "source": [
    "import pandas as pd\n",
    "import numpy as np\n"
   ]
  },
  {
   "cell_type": "markdown",
   "metadata": {},
   "source": [
    "# Database connection"
   ]
  },
  {
   "cell_type": "code",
   "execution_count": null,
   "metadata": {},
   "outputs": [],
   "source": [
    "# todo once the DB is up"
   ]
  },
  {
   "cell_type": "markdown",
   "metadata": {},
   "source": [
    "# Get data"
   ]
  },
  {
   "cell_type": "code",
   "execution_count": null,
   "metadata": {},
   "outputs": [],
   "source": [
    "positions_query = \"\"\"\n",
    "SELECT pp.PortfolioId, s.ISIN, pp.PortfolioCurreny, pp.MarketValueNet_CB\n",
    "FROM [dbo].[PortfolioPosition] pp \n",
    "LEFT JOIN [dbo].[Security] s on pp.SecurityId=s.SecurityId\n",
    "WHERE s.IsCash = 0 \n",
    "\"\"\""
   ]
  },
  {
   "cell_type": "code",
   "execution_count": null,
   "metadata": {},
   "outputs": [],
   "source": [
    "# start_of_trading_window = \"\"\n",
    "# transaction_query = \"\"\"\n",
    "# SELECT t.PortfolioId, t.ISIN\n",
    "# FROM [dbo].[Transaction] t\n",
    "# WHERE t.TransTradeDate >= '\"\"\" + start_of_trading_window + \"\"\"'\n",
    "# \"\"\""
   ]
  },
  {
   "cell_type": "code",
   "execution_count": 6,
   "metadata": {},
   "outputs": [],
   "source": [
    "# todo: change this into queries once the DB is up\n",
    "portfolio_ids = []\n",
    "portfolio_isins = []\n",
    "portfolio_currencies = []\n",
    "market_values = []\n",
    "positions = pd.DataFrame({'PortfolioId': portfolio_ids, 'ISIN': portfolio_isins, 'PortfolioCurreny': portfolio_currencies, 'MarketValueNet_CB': market_values})\n",
    "# transaction_ids = []\n",
    "# transaction_isins = []\n",
    "# transactions = pd.DataFrame({'PortfolioId': transaction_ids, 'ISIN': transaction_isins})"
   ]
  },
  {
   "cell_type": "markdown",
   "metadata": {},
   "source": [
    "# preprocess data"
   ]
  },
  {
   "cell_type": "code",
   "execution_count": null,
   "metadata": {},
   "outputs": [],
   "source": [
    "# drop nan\n",
    "positions.dropna()\n",
    "# transactions.dropna()\n",
    "# drop duplicates\n",
    "positions.drop_duplicates()\n",
    "# transactions.drop_duplicates()\n",
    "# remove portfolios with too few (less than 5) transactions\n",
    "counts = positions['PortfolioId'].value_counts()\n",
    "filtered_indices = counts[counts >= 5].index.tolist()\n",
    "positions = positions[positions['PortfolioId'].isin(filtered_indices)]\n",
    "# remove investments owned by too few (less than 5) portfolios\n",
    "counts = positions['ISIN'].value_counts()\n",
    "filtered_indices = counts[counts >= 5].index.tolist()\n",
    "positions = positions[positions['ISIN'].isin(filtered_indices)]"
   ]
  },
  {
   "cell_type": "code",
   "execution_count": null,
   "metadata": {},
   "outputs": [],
   "source": [
    "# build portfolio - investment pairs\n",
    "portfolio_list = positions[\"PortfolioId\"].unique()\n",
    "isin_list = positions[\"ISIN\"].unique()\n",
    "\n",
    "user_indices = []\n",
    "item_indices = []\n",
    "for index, row in positions.iterrows():\n",
    "    user_indices += [portfolio_list.tolist().index(row[\"PortfolioId\"])]\n",
    "    item_indices += [portfolio_list.tolist().index(row[\"ISIN\"])]\n",
    "\n",
    "ratings = [1] * len(user_indices)\n",
    "\n",
    "user_item_rating_df = pd.DataFrame({\"User\": user_indices,\n",
    "                                    \"Item\": item_indices,\n",
    "                                    \"Rating\": ratings})"
   ]
  },
  {
   "cell_type": "code",
   "execution_count": null,
   "metadata": {},
   "outputs": [],
   "source": []
  },
  {
   "cell_type": "code",
   "execution_count": null,
   "metadata": {},
   "outputs": [],
   "source": []
  },
  {
   "cell_type": "code",
   "execution_count": null,
   "metadata": {},
   "outputs": [],
   "source": []
  },
  {
   "cell_type": "markdown",
   "metadata": {},
   "source": [
    "# train/test split"
   ]
  },
  {
   "cell_type": "code",
   "execution_count": null,
   "metadata": {},
   "outputs": [],
   "source": [
    "X = user_item_rating_df[[\"User\", \"Item\"]].values\n",
    "y = user_item_rating_df[\"Rating\"].values"
   ]
  },
  {
   "cell_type": "code",
   "execution_count": null,
   "metadata": {},
   "outputs": [],
   "source": [
    "\n",
    "X_train, X_test = X[0:(len(user_item_rating_df) * 0.7)], X[(len(user_item_rating_df) * 0.7):]\n",
    "y_train, y_test = y[0:(len(user_item_rating_df) * 0.7)], y[(len(user_item_rating_df) * 0.7):]"
   ]
  },
  {
   "cell_type": "markdown",
   "metadata": {},
   "source": [
    "# implement feasibility filters"
   ]
  },
  {
   "cell_type": "code",
   "execution_count": null,
   "metadata": {},
   "outputs": [],
   "source": []
  },
  {
   "cell_type": "markdown",
   "metadata": {},
   "source": [
    "# build model"
   ]
  },
  {
   "cell_type": "code",
   "execution_count": null,
   "metadata": {},
   "outputs": [],
   "source": [
    "from scipy import sparse\n",
    "from sklearn.decomposition import nmf"
   ]
  },
  {
   "cell_type": "code",
   "execution_count": null,
   "metadata": {},
   "outputs": [],
   "source": [
    "# get sparse representation\n",
    "X_sparse = sparse.csr_matrix((y_train, (X_train[:, 0], X_train[:, 1])),\n",
    "                             shape=(len(portfolio_list),len(isin_list)))"
   ]
  },
  {
   "cell_type": "code",
   "execution_count": null,
   "metadata": {},
   "outputs": [],
   "source": [
    "W, H, _ = nmf.non_negative_factorization(X=X_sparse,\n",
    "                                         W=None,\n",
    "                                         H=None,\n",
    "                                         n_components=5,\n",
    "                                         init='random',\n",
    "                                         update_H=True,\n",
    "                                         solver='cd',\n",
    "                                         beta_loss='frobenius',\n",
    "                                         max_iter=200,\n",
    "                                         tol=0.0001,\n",
    "                                         alpha=0,\n",
    "                                         l1_ratio=0,\n",
    "                                         regularization='both',\n",
    "                                         random_state=0,\n",
    "                                         verbose=0,\n",
    "                                         shuffle=False)"
   ]
  },
  {
   "cell_type": "markdown",
   "metadata": {},
   "source": [
    "# predict"
   ]
  },
  {
   "cell_type": "code",
   "execution_count": null,
   "metadata": {},
   "outputs": [],
   "source": [
    "# add some zero values to the test set [\"User\", \"Item\"]\n",
    "length = X_test * 2\n",
    "while len(X_test) < length:\n",
    "    random_user_index = random.randint(0, len(portfolio_list))\n",
    "    random_item_index = random.randint(0, len(isin_list))\n",
    "    already_in = False\n",
    "    for index, row in X_test.iterrows():\n",
    "        if row['User'] == random_user_index and row['Item'] == random_item_index:\n",
    "            already_in = True\n",
    "    if not already_in:\n",
    "        X_test = np.append(X_test, [[random_user_index, random_item_index]], axis=0)\n",
    "        y_test = np.append(y_test, 0)"
   ]
  },
  {
   "cell_type": "code",
   "execution_count": null,
   "metadata": {},
   "outputs": [],
   "source": [
    "y_pred = []\n",
    "for index in X_test:\n",
    "    # compute dot product\n",
    "    dot_product = W[index[0], :].dot(H[:, index[1]])\n",
    "    y_pred.append(dot_product)"
   ]
  },
  {
   "cell_type": "markdown",
   "metadata": {},
   "source": [
    "# visualize metrics"
   ]
  },
  {
   "cell_type": "code",
   "execution_count": null,
   "metadata": {},
   "outputs": [],
   "source": [
    "TP = 0\n",
    "FP = 0\n",
    "TN = 0\n",
    "FN = 0\n",
    "\n",
    "index = 0\n",
    "for prediction in y_pred:\n",
    "    true_value = y_test[index]\n",
    "    if prediction == 0 and true_value == 0:\n",
    "        TN += 1\n",
    "    if prediction == 0 and true_value == 1:\n",
    "        FN += 1\n",
    "    if prediction == 1 and true_value == 0:\n",
    "        FP += 1\n",
    "    if prediction == 1 and true_value == 1:\n",
    "        TP += 1\n",
    "    index += 1\n",
    "\n",
    "print(\"Precision:\", TP/(TP+FP))\n",
    "print(\"Recall:\", TP/(TP+FN))"
   ]
  }
 ],
 "metadata": {
  "kernelspec": {
   "display_name": "Python 3",
   "language": "python",
   "name": "python3"
  },
  "language_info": {
   "codemirror_mode": {
    "name": "ipython",
    "version": 3
   },
   "file_extension": ".py",
   "mimetype": "text/x-python",
   "name": "python",
   "nbconvert_exporter": "python",
   "pygments_lexer": "ipython3",
   "version": "3.7.4"
  }
 },
 "nbformat": 4,
 "nbformat_minor": 2
}
